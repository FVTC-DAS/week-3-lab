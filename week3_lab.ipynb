{
 "cells": [
  {
   "cell_type": "markdown",
   "metadata": {},
   "source": [
    "# Week 3 Lab — Variables, Data Types, and Expressions\n",
    "\n",
    "Complete Tasks 1–3 in this notebook. Replace the TODOs with your code."
   ]
  },
  {
   "cell_type": "markdown",
   "metadata": {},
   "source": [
    "## Task 1: Area of a Rectangle\n",
    "**Goal:** Create `width` and `height` variables (integers), compute `area`, and print it."
   ]
  },
  {
   "cell_type": "code",
   "execution_count": null,
   "metadata": {},
   "outputs": [],
   "source": [
    "# Your code here\n"
   ]
  },
  {
   "cell_type": "markdown",
   "metadata": {},
   "source": [
    "## Task 2: User Greeter\n",
    "**Goal:** Ask for a name and a favorite color, then print a friendly message.\n",
    "\n",
    "> Hint: You can concatenate strings with a plus sign, like this  \"String 1 \" + \"String 2\""
   ]
  },
  {
   "cell_type": "code",
   "execution_count": null,
   "metadata": {},
   "outputs": [],
   "source": [
    "# Your code here\n"
   ]
  },
  {
   "cell_type": "markdown",
   "metadata": {},
   "source": [
    "## Task 3: Simple Age Calculator\n",
    "**Goal:** Ask for the current year and birth year, convert to integers, compute age, and print it.\n",
    "\n",
    "> Important: `input()` returns strings. Convert with int() before doing math."
   ]
  },
  {
   "cell_type": "code",
   "execution_count": null,
   "metadata": {},
   "outputs": [],
   "source": [
    "# Your code here\n"
   ]
  },
  {
   "cell_type": "markdown",
   "metadata": {},
   "source": [
    "## Submission Checklist\n",
    "- [ ] Run all cells and verify outputs\n",
    "- [ ] Save the notebook as **week3_lab.ipynb**\n",
    "- [ ] Stage → Commit → Sync changes in VS Code\n",
    "- [ ] Submit repo link in Blackboard"
   ]
  }
 ],
 "metadata": {
  "kernelspec": {
   "display_name": "Python 3",
   "language": "python",
   "name": "python3"
  },
  "language_info": {
   "name": "python"
  }
 },
 "nbformat": 4,
 "nbformat_minor": 5
}
